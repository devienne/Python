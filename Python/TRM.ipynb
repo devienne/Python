{
 "cells": [
  {
   "cell_type": "code",
   "execution_count": 71,
   "id": "7c7e33cd",
   "metadata": {},
   "outputs": [],
   "source": [
    "import numpy as np\n",
    "import matplotlib.pyplot as plt\n",
    "%matplotlib inline"
   ]
  },
  {
   "cell_type": "code",
   "execution_count": 25,
   "id": "021cafd9",
   "metadata": {},
   "outputs": [],
   "source": [
    "def calculate_volume(size):\n",
    "    vol = (4/3)*np.pi*(((size*10**-9)/2)**3)\n",
    "    return vol"
   ]
  },
  {
   "cell_type": "code",
   "execution_count": 31,
   "id": "5fe3a25d",
   "metadata": {},
   "outputs": [],
   "source": [
    "def calculate_Hk(Ku, Ms0):\n",
    "    mu0 = 4*np.pi*10**-7\n",
    "    Hk = (2*Ku)/(mu0*Ms0)\n",
    "    return Hk"
   ]
  },
  {
   "cell_type": "code",
   "execution_count": 66,
   "id": "044871d9",
   "metadata": {},
   "outputs": [],
   "source": [
    "def tau12(v, Ms, Hk, T):\n",
    "    tau0 = 10**-9\n",
    "    kb = 1.38*10**-23\n",
    "    mu0 = 4*np.pi*10**-7\n",
    "    tau12 = tau0*np.exp((mu0*v*Ms*Hk)/(2*kb*T)*((1-(H0/Hk))**2))\n",
    "    return tau12\n",
    "\n",
    "def tau21(v, Ms, Hk, T):\n",
    "    tau0 = 10**-9\n",
    "    kb = 1.38*10**-23\n",
    "    mu0 = 4*np.pi*10**-7\n",
    "    tau21 = tau0*np.exp((mu0*v*Ms*Hk)/(2*kb*T)*((1+(H0/Hk))**2))\n",
    "    return tau21\n",
    "\n",
    "def calculate_tau(s, Ku, Ms0, T):\n",
    "    v = calculate_volume(s)\n",
    "    Hk = calculate_Hk(Ku, Ms0)\n",
    "    t12 = tau12(v, Ms0, Hk, T)\n",
    "    t21 = tau21(v, Ms0, Hk, T)\n",
    "    tau = 1/((1/t12) + (1/t21))\n",
    "    return tau\n",
    "\n",
    "\n",
    "def meq(s, Ku, Ms0, T):\n",
    "    kb = 1.38*10**-23\n",
    "    mu0 = 4*np.pi*10**-7\n",
    "    v = calculate_volume(s)\n",
    "    calculate_Hk(Ku, Ms0)\n",
    "    meq = Ms0*np.tanh((mu0*v*Ms0*Hk)/(kb*T))\n",
    "    return meq\n",
    "    \n",
    "def magnetization(s, Ku, Ms0, T, t):\n",
    "    M0 = 0\n",
    "    tau = calculate_tau(s, Ku, Ms0, 300)\n",
    "    Meq = meq(s, Ku, Ms0, T)\n",
    "    M = Meq + (M0 - Meq)*np.exp(-t/tau)\n",
    "    return M\n",
    "    \n"
   ]
  },
  {
   "cell_type": "code",
   "execution_count": 159,
   "id": "e765d2cf",
   "metadata": {},
   "outputs": [],
   "source": [
    "Ms0 = 480e3\n",
    "Ku = 1.1e3\n",
    "s = 50 \n",
    "H0 = 50"
   ]
  },
  {
   "cell_type": "code",
   "execution_count": 160,
   "id": "4b1090b8",
   "metadata": {},
   "outputs": [],
   "source": [
    "ms = []\n",
    "\n",
    "time = np.arange(0,100) \n",
    "\n",
    "for t in time:\n",
    "    m = magnetization(s, Ku, Ms0, 200, t)\n",
    "    ms.append(m)"
   ]
  },
  {
   "cell_type": "code",
   "execution_count": 161,
   "id": "40082fb9",
   "metadata": {},
   "outputs": [
    {
     "data": {
      "image/png": "[encoded data removed]",
      "text/plain": [
       "<Figure size 432x288 with 1 Axes>"
      ]
     },
     "metadata": {
      "needs_background": "light"
     },
     "output_type": "display_data"
    }
   ],
   "source": [
    "plt.plot(time, ms)\n",
    "#plt.yscale('log')\n",
    "plt.xscale('log')"
   ]
  },
  {
   "cell_type": "code",
   "execution_count": 172,
   "id": "892a88f2",
   "metadata": {},
   "outputs": [],
   "source": [
    "def mag(m0, meq, t, tau):\n",
    "    m = meq + (m0-meq)*np.exp(-t/tau)\n",
    "    return m"
   ]
  },
  {
   "cell_type": "code",
   "execution_count": 236,
   "id": "ffb4ee46",
   "metadata": {},
   "outputs": [
    {
     "data": {
      "image/png": "[encoded data removed]",
      "text/plain": [
       "<Figure size 432x288 with 1 Axes>"
      ]
     },
     "metadata": {
      "needs_background": "light"
     },
     "output_type": "display_data"
    }
   ],
   "source": [
    "ms = []\n",
    "\n",
    "time = np.arange(0,10000) \n",
    "mag_1 = [mag(0,1,t,50) for t in time]\n",
    "mag_2 = [mag(0,1,t,100) for t in time]\n",
    "mag_3 = [mag(0,1,t,1000) for t in time]\n",
    "\n",
    "plt.plot(time, mag_1, label = 'tau = 50')\n",
    "plt.plot(50, mag(0,1,50,50), 'ro')\n",
    "plt.plot(time, mag_2, label = 'tau = 100')\n",
    "plt.plot(100, mag(0,1,100,100), 'ro')\n",
    "plt.plot(time, mag_3, label = 'tau = 1000')\n",
    "plt.plot(1000, mag(0,1,1000,1000), 'ro')\n",
    "\n",
    "plt.axhline(mag(0,1,1000,1000), 0, 0.73, ls = '--', c = 'gray')\n",
    "\n",
    "plt.axvline(50, 0, mag(0,1,50,50), ls = '--', c = 'gray')\n",
    "plt.axvline(100, 0, mag(0,1,100,100), ls = '--', c = 'gray')\n",
    "plt.axvline(1000, 0, mag(0,1,1000,1000), ls = '--', c = 'gray')\n",
    "\n",
    "\n",
    "plt.xscale('log')\n",
    "plt.xlabel('Time (s)')\n",
    "plt.ylabel('Magnetization')\n",
    "plt.legend()\n",
    "plt.show()\n",
    "    \n"
   ]
  },
  {
   "cell_type": "code",
   "execution_count": null,
   "id": "3dc830d9",
   "metadata": {},
   "outputs": [],
   "source": []
  }
 ],
 "metadata": {
  "kernelspec": {
   "display_name": "Python 3 (ipykernel)",
   "language": "python",
   "name": "python3"
  },
  "language_info": {
   "codemirror_mode": {
    "name": "ipython",
    "version": 3
   },
   "file_extension": ".py",
   "mimetype": "text/x-python",
   "name": "python",
   "nbconvert_exporter": "python",
   "pygments_lexer": "ipython3",
   "version": "3.9.12"
  }
 },
 "nbformat": 4,
 "nbformat_minor": 5
}
