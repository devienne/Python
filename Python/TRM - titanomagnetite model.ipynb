{
 "cells": [
  {
   "cell_type": "code",
   "execution_count": 1,
   "id": "075d01a0",
   "metadata": {},
   "outputs": [],
   "source": [
    "import numpy as np\n",
    "import matplotlib.pyplot as plt\n",
    "%matplotlib inline"
   ]
  },
  {
   "cell_type": "markdown",
   "id": "486be8d3",
   "metadata": {},
   "source": [
    "## Grain size distribution"
   ]
  },
  {
   "cell_type": "code",
   "execution_count": 78,
   "id": "5d3eeb38",
   "metadata": {},
   "outputs": [],
   "source": [
    "def setup_variables():\n",
    "    Vstep = 1000\n",
    "    Tcstep = 200\n",
    "    [V, Tc] = np.meshgrid(np.logspace(np.log10(5e-9**3), np.log10(100e-9**3), Vstep),\n",
    "                         np.linspace(580+273, 20+273, Tcstep))\n",
    "    \n",
    "    return [V, Tc]"
   ]
  },
  {
   "cell_type": "code",
   "execution_count": 84,
   "id": "504691b9",
   "metadata": {},
   "outputs": [],
   "source": [
    "def plot_grain_size_distribution(f, V, Tc):\n",
    "    plt.contourf((V**(1/3))/1e-9, Tc-273, np.log10(f))\n",
    "    plt.xlabel('Volume [nm]')\n",
    "    plt.ylabel('$T_c [oC]$')\n",
    "    plt.title('f(V, $T_c$)')\n",
    "    plt.xscale('log')\n",
    "    plt.show()"
   ]
  },
  {
   "cell_type": "code",
   "execution_count": 85,
   "id": "db38bf5d",
   "metadata": {},
   "outputs": [],
   "source": [
    "[V, Tc] = setup_variables()"
   ]
  },
  {
   "cell_type": "code",
   "execution_count": 86,
   "id": "4e210999",
   "metadata": {},
   "outputs": [],
   "source": [
    "f =  1e8 * np.exp(-(np.log(V)-np.log(10e-9**3))**2/10-(Tc-(580+273))**2/1e2)"
   ]
  },
  {
   "cell_type": "code",
   "execution_count": 87,
   "id": "42fda3dc",
   "metadata": {},
   "outputs": [
    {
     "name": "stderr",
     "output_type": "stream",
     "text": [
      "C:\\Users\\v1jdevie\\AppData\\Local\\Temp\\ipykernel_11248\\646647965.py:2: RuntimeWarning: divide by zero encountered in log10\n",
      "  plt.contourf((V**(1/3))/1e-9, Tc-273, np.log10(f))\n"
     ]
    },
    {
     "data": {
      "image/png": "[encoded data removed]",
      "text/plain": [
       "<Figure size 432x288 with 1 Axes>"
      ]
     },
     "metadata": {
      "needs_background": "light"
     },
     "output_type": "display_data"
    }
   ],
   "source": [
    "plot_grain_size_distribution(f, V, Tc)"
   ]
  },
  {
   "cell_type": "code",
   "execution_count": null,
   "id": "96143bd3",
   "metadata": {},
   "outputs": [],
   "source": []
  }
 ],
 "metadata": {
  "kernelspec": {
   "display_name": "Python 3 (ipykernel)",
   "language": "python",
   "name": "python3"
  },
  "language_info": {
   "codemirror_mode": {
    "name": "ipython",
    "version": 3
   },
   "file_extension": ".py",
   "mimetype": "text/x-python",
   "name": "python",
   "nbconvert_exporter": "python",
   "pygments_lexer": "ipython3",
   "version": "3.9.12"
  }
 },
 "nbformat": 4,
 "nbformat_minor": 5
}
